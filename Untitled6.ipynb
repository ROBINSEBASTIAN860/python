{
  "nbformat": 4,
  "nbformat_minor": 0,
  "metadata": {
    "colab": {
      "provenance": [],
      "authorship_tag": "ABX9TyOSSaz2iQ004NKJj/jU5mtu",
      "include_colab_link": true
    },
    "kernelspec": {
      "name": "python3",
      "display_name": "Python 3"
    },
    "language_info": {
      "name": "python"
    }
  },
  "cells": [
    {
      "cell_type": "markdown",
      "metadata": {
        "id": "view-in-github",
        "colab_type": "text"
      },
      "source": [
        "<a href=\"https://colab.research.google.com/github/ROBINSEBASTIAN860/python/blob/main/Untitled6.ipynb\" target=\"_parent\"><img src=\"https://colab.research.google.com/assets/colab-badge.svg\" alt=\"Open In Colab\"/></a>"
      ]
    },
    {
      "cell_type": "code",
      "execution_count": null,
      "metadata": {
        "colab": {
          "base_uri": "https://localhost:8080/"
        },
        "id": "5HwUcnMChm8G",
        "outputId": "99642039-f14d-4631-d0a4-e20c42a14b3e"
      },
      "outputs": [
        {
          "output_type": "stream",
          "name": "stdout",
          "text": [
            "-20\n",
            "absolute value of 20 is 20\n"
          ]
        }
      ],
      "source": [
        "num=int(input(\"enter the \"))\n",
        "if (num>0):\n",
        "  print(\"absolute value of \", num, \"is\", num)\n",
        "else:\n",
        "  num=num*(-1)\n",
        "  print(\"absolute value of\", num, \"is\", num)"
      ]
    },
    {
      "cell_type": "code",
      "source": [
        "x= int(input(\"enter mark here\"))\n",
        "if x<25:\n",
        "  print(\"f grade\")\n",
        "elif x<45 and x<25:\n",
        "  print(\"e grade\")\n",
        "elif x<50 and x<45:\n",
        "  print(\"d grade\")\n",
        "elif x<60 and x>50:\n",
        "  print(\"c grade\")\n",
        "elif x<80 and x<60:\n",
        "  print(\"b grade\")\n",
        "elif x>80:\n",
        "  print(\"a grade\")\n"
      ],
      "metadata": {
        "colab": {
          "base_uri": "https://localhost:8080/"
        },
        "id": "tpVLRL5mk8w4",
        "outputId": "3dc8667e-caca-480f-c8d2-ac897dcfdd33"
      },
      "execution_count": null,
      "outputs": [
        {
          "output_type": "stream",
          "name": "stdout",
          "text": [
            "enter mark here 45\n",
            "b grade\n"
          ]
        }
      ]
    },
    {
      "cell_type": "code",
      "source": [
        "x=int(input(\"number of classes held\"))\n",
        "y=int(input(\"number of classes attended\"))\n",
        "z=y/x*100\n",
        "if x>75:\n",
        "  print(x,\"able to attent the exam\")\n",
        "elif y<75:\n",
        "  print(y,\"not able to attent the exam\")"
      ],
      "metadata": {
        "colab": {
          "base_uri": "https://localhost:8080/"
        },
        "id": "_TrVccU9p0NK",
        "outputId": "bd842298-e9d4-4b33-edb1-abaa902faf14"
      },
      "execution_count": null,
      "outputs": [
        {
          "output_type": "stream",
          "name": "stdout",
          "text": [
            "number of classes held 35\n",
            "number of classes attended32\n",
            "32 not able to attent the exam\n"
          ]
        }
      ]
    },
    {
      "cell_type": "code",
      "source": [
        "print(\"1.Addition \\n2.Subtraction \\n3.Multiplication \\n4.Division \\n5.Modulus \\n6.Floor Division \\n7.Exponent\")\n",
        "x=int(input(\"Enter operation: \"))\n",
        "a=int(input(\"Enter a number: \"))\n",
        "b=int(input(\"Enter a number: \"))\n",
        "if x==1:\n",
        "  print(a+b)\n",
        "elif x==2:\n",
        "  print(a-b)    \n",
        "elif x==3:\n",
        "  print(a*b)\n",
        "elif x==4:\n",
        "  print(a/b)\n",
        "elif x==5:\n",
        "  print(a%b)\n",
        "elif x==6:\n",
        "  print(a//b)\n",
        "elif x==7:\n",
        "  print(a**b)\n"
      ],
      "metadata": {
        "colab": {
          "base_uri": "https://localhost:8080/"
        },
        "id": "Qg7e3IinvFNZ",
        "outputId": "c4f54561-11e4-4c8e-918d-358757be6e06"
      },
      "execution_count": null,
      "outputs": [
        {
          "output_type": "stream",
          "name": "stdout",
          "text": [
            "1.Addition \n",
            "2.Subtraction \n",
            "3.Multiplication \n",
            "4.Division \n",
            "5.Modulus \n",
            "6.Floor Division \n",
            "7.Exponent\n",
            "Enter operation: 3\n",
            "Enter a number: 25\n",
            "Enter a number: 54\n",
            "1350\n"
          ]
        }
      ]
    },
    {
      "cell_type": "code",
      "source": [],
      "metadata": {
        "id": "ekflCfF_yFEr"
      },
      "execution_count": null,
      "outputs": []
    }
  ]
}